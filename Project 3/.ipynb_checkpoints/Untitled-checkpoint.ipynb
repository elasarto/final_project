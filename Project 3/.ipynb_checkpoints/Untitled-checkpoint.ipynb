{
 "cells": [
  {
   "cell_type": "code",
   "execution_count": null,
   "metadata": {
    "collapsed": true
   },
   "outputs": [],
   "source": [
    "import matplotlib.pyplot as plt\n",
    "import pandas as pd\n",
    "import seaborn as sns\n",
    "import spotipy\n",
    "from matplotlib import style\n",
    "from spotipy import util\n",
    "import requests\n",
    "\n",
    "# Spotify API limit\n",
    "API_LIMIT = 50"
   ]
  },
  {
   "cell_type": "code",
   "execution_count": null,
   "metadata": {
    "collapsed": true
   },
   "outputs": [],
   "source": [
    "import pandas as pd \n",
    "import spotipy \n",
    "sp = spotipy.Spotify() \n",
    "from spotipy.oauth2 import SpotifyClientCredentials \n",
    "cid =\"944cef2fde194a8e8d4d5e8db666e020\" \n",
    "secret = \"52f43621583e4844a4728a5577617f24\" "
   ]
  },
  {
   "cell_type": "code",
   "execution_count": null,
   "metadata": {
    "collapsed": true
   },
   "outputs": [],
   "source": [
    "client_credentials_manager = SpotifyClientCredentials(client_id=cid, client_secret=secret) \n",
    "sp = spotipy.Spotify(client_credentials_manager=client_credentials_manager) \n",
    "sp.trace=False "
   ]
  },
  {
   "cell_type": "code",
   "execution_count": null,
   "metadata": {
    "collapsed": true
   },
   "outputs": [],
   "source": [
    "user_id = 'dangerousmousepad'\n",
    "\n",
    "base_url = 'https://api.spotify.com/v1/users/%s/playlists?offset=0&limit=50' % (user_id)\n",
    "\n",
    "response = requests.get(base_url)\n",
    "print(response)\n",
    "\n",
    "\n"
   ]
  },
  {
   "cell_type": "code",
   "execution_count": null,
   "metadata": {},
   "outputs": [],
   "source": [
    "import sys\n",
    "import spotipy\n",
    "import spotipy.util as util\n",
    "from spotipy import oauth2\n",
    "import os\n",
    "\n",
    "\n",
    "# os.environ[\"SPOTIPY_CLIENT_ID\"] = \"944cef2fde194a8e8d4d5e8db666e020\"\n",
    "# os.environ[\"SPOTIPY_CLIENT_SECRET\"] = \"52f43621583e4844a4728a5577617f24\"\n",
    "# os.environ[\"SPOTIPY_REDIRECT_URI\"] = \"http://localhost/\"\n",
    "\n",
    "# sp_oauth = oauth2.SpotifyOAuth( SPOTIPY_CLIENT_ID, SPOTIPY_CLIENT_SECRET,SPOTIPY_REDIRECT_URI,scope=SCOPE,cache_path=CACHE )\n",
    "scope = 'user-library-read'\n",
    "\n",
    "username = '7yp23sdg5ptloppevj62zjn6a'\n",
    "\n",
    "token = util.prompt_for_user_token(username, scope,client_id = \"944cef2fde194a8e8d4d5e8db666e020\",\n",
    "                                   client_secret = \"52f43621583e4844a4728a5577617f24\",\n",
    "                                   redirect_uri = 'http://localhost/')#, SPOTIPY_REDIRECT_URI)\n",
    "\n",
    "if token:\n",
    "    sp = spotipy.Spotify(auth=token)\n",
    "    results = sp.current_user_saved_tracks()\n",
    "    for item in results['items']:\n",
    "        track = item['track']\n",
    "        print (track['name'] + ' - ' + track['artists'][0]['name'])\n",
    "else:\n",
    "    print (\"Can't get token for\", username)"
   ]
  },
  {
   "cell_type": "code",
   "execution_count": null,
   "metadata": {
    "collapsed": true
   },
   "outputs": [],
   "source": []
  }
 ],
 "metadata": {
  "kernelspec": {
   "display_name": "Python 3",
   "language": "python",
   "name": "python3"
  },
  "language_info": {
   "codemirror_mode": {
    "name": "ipython",
    "version": 3
   },
   "file_extension": ".py",
   "mimetype": "text/x-python",
   "name": "python",
   "nbconvert_exporter": "python",
   "pygments_lexer": "ipython3",
   "version": "3.6.3"
  }
 },
 "nbformat": 4,
 "nbformat_minor": 2
}
