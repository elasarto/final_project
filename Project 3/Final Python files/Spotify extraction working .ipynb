{
 "cells": [
  {
   "cell_type": "code",
   "execution_count": null,
   "metadata": {
    "collapsed": true
   },
   "outputs": [],
   "source": [
    "import sys\n",
    "import spotipy\n",
    "import spotipy.util as util\n",
    "from spotipy import oauth2\n",
    "import json\n",
    "import os\n",
    "import re\n",
    "\n",
    "import pandas as pd\n",
    "import numpy as np\n",
    "\n",
    "from matplotlib import pyplot as plt\n",
    "import seaborn as sns\n",
    "\n",
    "%matplotlib inline"
   ]
  },
  {
   "cell_type": "code",
   "execution_count": null,
   "metadata": {
    "collapsed": true
   },
   "outputs": [],
   "source": [
    "scope = 'user-library-read'\n",
    "\n",
    "username = '7yp23sdg5ptloppevj62zjn6a'\n",
    "\n",
    "token = util.prompt_for_user_token(username, scope,client_id = \"944cef2fde194a8e8d4d5e8db666e020\",\n",
    "                                   client_secret = \"52f43621583e4844a4728a5577617f24\",\n",
    "                                   redirect_uri = 'https://example.com/callback/')#, SPOTIPY_REDIRECT_URI)\n",
    "\n",
    "if token:\n",
    "    sp = spotipy.Spotify(auth=token)\n",
    "    results = sp.current_user_saved_tracks()\n",
    "    for item in results['items']:\n",
    "        track = item['track']\n",
    "        print (track['name'] + ' - ' + track['artists'][0]['name'])\n",
    "else:\n",
    "    print (\"Can't get token for\", username)"
   ]
  },
  {
   "cell_type": "markdown",
   "metadata": {},
   "source": [
    "# Obtaining information for a specific user"
   ]
  },
  {
   "cell_type": "code",
   "execution_count": null,
   "metadata": {},
   "outputs": [],
   "source": [
    "username = input(\"What's the username?\")\n",
    "\n",
    "sp = spotipy.Spotify(auth=token)\n",
    "playlists = sp.user_playlists(username)\n",
    "#print(json.dumps(playlists, indent =2))"
   ]
  },
  {
   "cell_type": "code",
   "execution_count": null,
   "metadata": {},
   "outputs": [],
   "source": [
    "print(\"The playlist name is \" + playlists['items'][0]['name'])\n",
    "print(\"the playlist id is \" + (playlists['items'][0]['uri']).split(\"playlist:\")[1])\n",
    "print(\"The total number of songs is \" + str(playlists['items'][0]['tracks']['total']))"
   ]
  },
  {
   "cell_type": "code",
   "execution_count": null,
   "metadata": {},
   "outputs": [],
   "source": [
    "playlist_name = []\n",
    "playlist_id = []\n",
    "playlist_total_songs = []\n",
    "\n",
    "for i in playlists['items']:\n",
    "    playlist_name.append(i['name'])\n",
    "    playlist_id.append(i['uri'].split(\"playlist:\")[1])\n",
    "    playlist_total_songs.append(str(i['tracks']['total']))\n",
    "    \n",
    "print(len(playlist_name))\n",
    "print(playlist_name)\n",
    "print(len(playlist_id))\n",
    "print(playlist_id)\n",
    "print(len(playlist_total_songs))\n",
    "print(playlist_total_songs)"
   ]
  },
  {
   "cell_type": "code",
   "execution_count": null,
   "metadata": {
    "collapsed": true
   },
   "outputs": [],
   "source": [
    "user_playlists_info = {'Playlist Name' : playlist_name, 'Playlist ID' : playlist_id, \n",
    "                       'Playlist_Total_Songs' : playlist_total_songs}"
   ]
  },
  {
   "cell_type": "markdown",
   "metadata": {},
   "source": [
    "# Obtaining the list of all songs in each playlist"
   ]
  },
  {
   "cell_type": "code",
   "execution_count": null,
   "metadata": {},
   "outputs": [],
   "source": [
    "playlist_info = {}\n",
    "\n",
    "playlist_name = []\n",
    "playlist_owner = []\n",
    "owner_type = []\n",
    "playlist_followers = []\n",
    "artist_id = []\n",
    "artist_name = []\n",
    "album_name = []\n",
    "song_name = []\n",
    "song_id = []\n",
    "song_popularity = []\n",
    "\n",
    "\n",
    "\n",
    "for p_id in playlist_id:\n",
    "    #print(p_id)\n",
    "    try:\n",
    "        results = sp.user_playlist(username, p_id)\n",
    "    except Exception:\n",
    "        print('Cannot find following playlist id: ' + p_id)\n",
    "        continue\n",
    "    \n",
    "    print(json.dumps(results,indent=4))\n",
    "\n",
    "    for i in results['tracks']['items']:\n",
    "        playlist_name.append(results['name'])\n",
    "        playlist_owner.append(results['owner']['id'])\n",
    "        owner_type.append(results['owner']['type'])\n",
    "        playlist_followers.append(results['followers']['total'])\n",
    "        artist_id.append(i['track']['artists'][0]['id'])\n",
    "        artist_name.append(i['track']['artists'][0]['name'])\n",
    "        album_name.append(i['track']['album']['name'])\n",
    "        song_name.append(i['track']['name'])\n",
    "        song_id.append(i['track']['id'])\n",
    "        song_popularity.append(i['track']['popularity'])\n",
    "        \n",
    "    \n",
    "# print(playlist_name)\n",
    "# print(playlist_owner)\n",
    "# print(owner_type)\n",
    "# print(playlist_followers)\n",
    "# print(artist_id)\n",
    "# print(artist_name)\n",
    "# print(album_name)\n",
    "# print(song_name)\n",
    "# print(song_id)\n",
    "# print(song_popularity)\n",
    "# print(len(song_popularity))"
   ]
  },
  {
   "cell_type": "code",
   "execution_count": null,
   "metadata": {
    "collapsed": true
   },
   "outputs": [],
   "source": [
    "playlists_info = {'Playlist Name' : playlist_name, 'Playlist Owner' : playlist_owner, 'Owner Type' : owner_type, \n",
    "                 'Playlist Followers' : playlist_followers, 'Artist ID' : artist_id, 'Artist Name' : artist_name,\n",
    "                 'Album Name' : album_name, 'Song Name' : song_name, 'Song ID' : song_id, 'Song Popularity' : song_popularity}"
   ]
  },
  {
   "cell_type": "code",
   "execution_count": null,
   "metadata": {
    "collapsed": true
   },
   "outputs": [],
   "source": [
    "#print(playlists_info)"
   ]
  },
  {
   "cell_type": "code",
   "execution_count": null,
   "metadata": {
    "collapsed": true
   },
   "outputs": [],
   "source": [
    "playlists_info_df = pd.DataFrame(playlists_info, columns = ['Playlist Name', 'Playlist Owner', 'Owner Type', \n",
    "                 'Playlist Followers', 'Artist ID', 'Artist Name','Album Name', 'Song Name', 'Song ID', 'Song Popularity'])"
   ]
  },
  {
   "cell_type": "code",
   "execution_count": null,
   "metadata": {},
   "outputs": [],
   "source": [
    "playlists_info_df.head()"
   ]
  },
  {
   "cell_type": "code",
   "execution_count": null,
   "metadata": {},
   "outputs": [],
   "source": [
    "playlists_info_df.info()"
   ]
  },
  {
   "cell_type": "markdown",
   "metadata": {},
   "source": [
    "# Obtaining the features for each song contained in the playlist"
   ]
  },
  {
   "cell_type": "code",
   "execution_count": null,
   "metadata": {},
   "outputs": [],
   "source": [
    "song_id_2 = []\n",
    "danceability = []\n",
    "energy = []\n",
    "key = []\n",
    "loudness = []\n",
    "mode = []\n",
    "speechiness = []\n",
    "acousticness = []\n",
    "instrumentalness = []\n",
    "liveness = []\n",
    "valence = []\n",
    "tempo = []\n",
    "duration_ms = []\n",
    "\n",
    "for s_id in song_id:\n",
    "    features = sp.audio_features(s_id)\n",
    "    #print(features)\n",
    "    #print(json.dumps(features, indent = 4))\n",
    "    for feature in features:\n",
    "        song_id_2.append(s_id)\n",
    "        danceability.append(feature['danceability'])\n",
    "        energy.append(feature['energy'])\n",
    "        key.append(feature['key'])\n",
    "        loudness.append(feature['loudness'])\n",
    "        mode.append(feature['mode'])\n",
    "        speechiness.append(feature['speechiness'])\n",
    "        acousticness.append(feature['acousticness'])\n",
    "        instrumentalness.append(feature['instrumentalness'])\n",
    "        liveness.append(feature['liveness'])\n",
    "        valence.append(feature['valence'])\n",
    "        tempo.append(feature['tempo'])\n",
    "        duration_ms.append(feature['duration_ms'])"
   ]
  },
  {
   "cell_type": "code",
   "execution_count": null,
   "metadata": {
    "collapsed": true
   },
   "outputs": [],
   "source": [
    "songs_info = {'Song ID' : song_id_2,'Danceability' : danceability, 'Energy' : energy, 'Key' : key, 'Loudness' : loudness,\n",
    "              'Mode' : mode, 'Speechiness' : speechiness, 'Acousticness' : acousticness, 'Instrumentalness' : instrumentalness,\n",
    "              'Liveness' : liveness, 'Valence' : valence, 'Tempo' : tempo, 'Duration ms' : duration_ms}"
   ]
  },
  {
   "cell_type": "code",
   "execution_count": null,
   "metadata": {
    "collapsed": true
   },
   "outputs": [],
   "source": [
    "songs_info_df = pd.DataFrame(songs_info, columns = ['Song ID','Danceability', 'Energy', 'Key', 'Loudness',\n",
    "              'Mode', 'Speechiness', 'Acousticness', 'Instrumentalness','Liveness', 'Valence', 'Tempo', 'Duration ms'])"
   ]
  },
  {
   "cell_type": "code",
   "execution_count": null,
   "metadata": {},
   "outputs": [],
   "source": [
    "songs_info_df.info()"
   ]
  },
  {
   "cell_type": "code",
   "execution_count": null,
   "metadata": {
    "collapsed": true
   },
   "outputs": [],
   "source": [
    "songs_info_df = pd.merge(songs_info_df,playlists_info_df[['Song ID','Song Popularity']],on='Song ID', how='left')"
   ]
  },
  {
   "cell_type": "code",
   "execution_count": null,
   "metadata": {},
   "outputs": [],
   "source": [
    "songs_info_df.head()"
   ]
  },
  {
   "cell_type": "code",
   "execution_count": null,
   "metadata": {
    "collapsed": true
   },
   "outputs": [],
   "source": [
    "#Custome color palette\n",
    "red_blue = ['#19B5FE', '#EF4836']\n",
    "palette = sns.color_palette(red_blue)\n",
    "sns.set_palette(palette)\n",
    "sns.set_style(\"white\")"
   ]
  },
  {
   "cell_type": "code",
   "execution_count": null,
   "metadata": {
    "collapsed": true
   },
   "outputs": [],
   "source": [
    "pos_tempo = songs_info_df[songs_info_df['Song Popularity'] > 50]['Tempo']\n",
    "neg_tempo = songs_info_df[songs_info_df['Song Popularity'] < 50]['Tempo']\n",
    "pos_dance = songs_info_df[songs_info_df['Song Popularity'] > 50]['Danceability']\n",
    "neg_dance = songs_info_df[songs_info_df['Song Popularity'] < 50]['Danceability']\n",
    "pos_duration = songs_info_df[songs_info_df['Song Popularity'] > 50]['Duration ms']\n",
    "neg_duration = songs_info_df[songs_info_df['Song Popularity'] < 50]['Duration ms']\n",
    "pos_loudness = songs_info_df[songs_info_df['Song Popularity'] > 50]['Loudness']\n",
    "neg_loudness = songs_info_df[songs_info_df['Song Popularity'] < 50]['Loudness']\n",
    "pos_speechiness = songs_info_df[songs_info_df['Song Popularity'] > 50]['Speechiness']\n",
    "neg_speechiness = songs_info_df[songs_info_df['Song Popularity'] < 50]['Speechiness']\n",
    "pos_valence = songs_info_df[songs_info_df['Song Popularity'] > 50]['Valence']\n",
    "neg_valence = songs_info_df[songs_info_df['Song Popularity'] < 50]['Valence']\n",
    "pos_energy = songs_info_df[songs_info_df['Song Popularity'] > 50]['Energy']\n",
    "neg_energy = songs_info_df[songs_info_df['Song Popularity'] < 50]['Energy']\n",
    "pos_acousticness = songs_info_df[songs_info_df['Song Popularity'] > 50]['Acousticness']\n",
    "neg_acousticness = songs_info_df[songs_info_df['Song Popularity'] < 50]['Acousticness']\n",
    "pos_key = songs_info_df[songs_info_df['Song Popularity'] > 50]['Key']\n",
    "neg_key = songs_info_df[songs_info_df['Song Popularity'] < 50]['Key']\n",
    "pos_instrumentalness = songs_info_df[songs_info_df['Song Popularity'] > 50]['Instrumentalness']\n",
    "neg_instrumentalness = songs_info_df[songs_info_df['Song Popularity'] < 50]['Instrumentalness']"
   ]
  },
  {
   "cell_type": "code",
   "execution_count": null,
   "metadata": {},
   "outputs": [],
   "source": [
    "fig = plt.figure(figsize=(12,8))\n",
    "plt.title(\"Song tempo high/low popularity distribution\")\n",
    "pos_tempo.hist(alpha=0.7, bins = 30, label='high popularity')\n",
    "neg_tempo.hist(alpha=0.7, bins = 30, label='low popularity')\n",
    "plt.legend(loc = 'upper right')"
   ]
  },
  {
   "cell_type": "code",
   "execution_count": null,
   "metadata": {},
   "outputs": [],
   "source": [
    "fig2 = plt.figure(figsize=(15,15))\n",
    "\n",
    "# Danceability\n",
    "ax3 = fig2.add_subplot(331)\n",
    "ax3.set_xlabel('Danceability')\n",
    "ax3.set_ylabel('Count')\n",
    "ax3.set_title('Song Danceability Popularity Distribution')\n",
    "pos_dance.hist(alpha=0.5, bins=30)\n",
    "ax4 = fig2.add_subplot(331)\n",
    "neg_dance.hist(alpha=0.5, bins=30)\n",
    "\n",
    "# Duration\n",
    "ax5 = fig2.add_subplot(332)\n",
    "ax5.set_xlabel('Duration MS')\n",
    "ax5.set_ylabel('Count')\n",
    "ax5.set_title('Song Duration Populatiry Distribution')\n",
    "pos_duration.hist(alpha=0.5, bins=30)\n",
    "ax6 = fig2.add_subplot(332)\n",
    "neg_duration.hist(alpha=0.5, bins=30)\n",
    "\n",
    "# Loudness\n",
    "ax7 = fig2.add_subplot(333)\n",
    "ax7.set_xlabel('Loudness')\n",
    "ax7.set_ylabel('Count')\n",
    "ax7.set_title('Song Loudness Popularity Distribution')\n",
    "pos_loudness.hist(alpha=0.5, bins=30)\n",
    "ax8 = fig2.add_subplot(333)\n",
    "neg_loudness.hist(alpha=0.5, bins=30)\n",
    "\n",
    "# Speechiness\n",
    "ax9 = fig2.add_subplot(334)\n",
    "ax9.set_xlabel('Speechiness')\n",
    "ax9.set_ylabel('Count')\n",
    "ax9.set_title('Song Speechiness Popularity Distribution')\n",
    "pos_speechiness.hist(alpha=0.5, bins=30)\n",
    "ax10 = fig2.add_subplot(334)\n",
    "neg_speechiness.hist(alpha=0.5, bins=30)\n",
    "\n",
    "# Valence\n",
    "ax11 = fig2.add_subplot(335)\n",
    "ax11.set_xlabel('Valence')\n",
    "ax11.set_ylabel('Count')\n",
    "ax11.set_title('Song Valence Popularity Distribution')\n",
    "pos_valence.hist(alpha=0.5, bins=30)\n",
    "ax12 = fig2.add_subplot(335)\n",
    "neg_valence.hist(alpha=0.5, bins=30)\n",
    "\n",
    "# Energy\n",
    "ax13 = fig2.add_subplot(335)\n",
    "ax13.set_xlabel('Energy')\n",
    "ax13.set_ylabel('Count')\n",
    "ax13.set_title('Song Energy Popularity Distribution')\n",
    "pos_energy.hist(alpha=0.5, bins=30)\n",
    "ax14 = fig2.add_subplot(335)\n",
    "neg_energy.hist(alpha=0.5, bins=30)\n",
    "\n",
    "# Acousticness\n",
    "ax15 = fig2.add_subplot(336)\n",
    "ax15.set_xlabel('Acousticness')\n",
    "ax15.set_ylabel('Count')\n",
    "ax15.set_title('Song Acousticness Popularity Distribution')\n",
    "pos_acousticness.hist(alpha=0.5, bins=30)\n",
    "ax16 = fig2.add_subplot(336)\n",
    "neg_acousticness.hist(alpha=0.5, bins=30)\n",
    "\n",
    "# Key\n",
    "ax17 = fig2.add_subplot(337)\n",
    "ax17.set_xlabel('Key')\n",
    "ax17.set_ylabel('Count')\n",
    "ax17.set_title('Song Key Popularity Distribution')\n",
    "pos_key.hist(alpha=0.5, bins=30)\n",
    "ax18 = fig2.add_subplot(337)\n",
    "neg_key.hist(alpha=0.5, bins=30)\n",
    "\n",
    "# Instrumentalness\n",
    "ax19 = fig2.add_subplot(338)\n",
    "ax19.set_xlabel('Instrumentalness')\n",
    "ax19.set_ylabel('Count')\n",
    "ax19.set_title('Song Instrumentalness Popularity Distribution')\n",
    "pos_instrumentalness.hist(alpha=0.5, bins=30)\n",
    "ax20 = fig2.add_subplot(338)\n",
    "neg_instrumentalness.hist(alpha=0.5, bins=30)\n"
   ]
  },
  {
   "cell_type": "markdown",
   "metadata": {},
   "source": [
    "# Using K-Means to create some clusters"
   ]
  },
  {
   "cell_type": "code",
   "execution_count": null,
   "metadata": {},
   "outputs": [],
   "source": [
    "from sklearn.cluster import KMeans\n",
    "\n",
    "import hypertools as hyp\n",
    "\n",
    "km = KMeans(n_clusters=4, init='k-means++', n_init=10)"
   ]
  },
  {
   "cell_type": "code",
   "execution_count": null,
   "metadata": {},
   "outputs": [],
   "source": [
    "songs_info_clusters = songs_info_df.drop(['Song ID', 'Song Popularity', 'Key', 'Mode', 'Valence', 'Tempo', 'Duration ms'], axis = 1)\n",
    "songs_info_clusters.head()"
   ]
  },
  {
   "cell_type": "code",
   "execution_count": null,
   "metadata": {},
   "outputs": [],
   "source": [
    "km.fit(songs_info_clusters)"
   ]
  },
  {
   "cell_type": "code",
   "execution_count": null,
   "metadata": {},
   "outputs": [],
   "source": [
    "x = km.fit_predict(songs_info_clusters)\n",
    "x"
   ]
  },
  {
   "cell_type": "code",
   "execution_count": null,
   "metadata": {},
   "outputs": [],
   "source": [
    "songs_info_clusters[\"Cluster\"]= x\n",
    "songs_info_clusters.head()"
   ]
  },
  {
   "cell_type": "code",
   "execution_count": null,
   "metadata": {
    "collapsed": true
   },
   "outputs": [],
   "source": [
    "target = songs_info_clusters['Cluster']\n",
    "songs_info_clusters = songs_info_clusters.drop('Cluster', axis=1)\n",
    "group = target.astype('str')"
   ]
  },
  {
   "cell_type": "code",
   "execution_count": null,
   "metadata": {},
   "outputs": [],
   "source": [
    "songs_info_df[\"Cluster\"]= x\n",
    "songs_info_df.head()"
   ]
  },
  {
   "cell_type": "code",
   "execution_count": null,
   "metadata": {},
   "outputs": [],
   "source": [
    "songs_info_df_sorted_cluster = songs_info_df.sort_values(['Cluster'])\n",
    "songs_info_df_sorted_cluster = songs_info_df_sorted_cluster.reset_index(drop=True)\n",
    "songs_info_df_sorted_cluster"
   ]
  },
  {
   "cell_type": "code",
   "execution_count": null,
   "metadata": {},
   "outputs": [],
   "source": [
    "plt.scatter(songs_info_df_sorted_cluster['Cluster'], songs_info_df_sorted_cluster['Danceability'],\n",
    "            c=x, s=50, cmap='viridis')\n",
    "plt.show()"
   ]
  },
  {
   "cell_type": "code",
   "execution_count": null,
   "metadata": {},
   "outputs": [],
   "source": [
    "plt.scatter(songs_info_df_sorted_cluster['Cluster'], songs_info_df_sorted_cluster['Energy'],\n",
    "            c=x, s=50, cmap='viridis')\n",
    "plt.show()"
   ]
  },
  {
   "cell_type": "code",
   "execution_count": null,
   "metadata": {},
   "outputs": [],
   "source": [
    "plt.scatter(songs_info_df_sorted_cluster['Cluster'], songs_info_df_sorted_cluster['Loudness'],\n",
    "            c=x, s=50, cmap='viridis')\n",
    "plt.show()"
   ]
  },
  {
   "cell_type": "code",
   "execution_count": null,
   "metadata": {},
   "outputs": [],
   "source": [
    "plt.scatter(songs_info_df_sorted_cluster['Cluster'], songs_info_df_sorted_cluster['Speechiness'],\n",
    "            c=x, s=50, cmap='viridis')\n",
    "plt.show()"
   ]
  },
  {
   "cell_type": "code",
   "execution_count": null,
   "metadata": {},
   "outputs": [],
   "source": [
    "plt.scatter(songs_info_df_sorted_cluster['Cluster'], songs_info_df_sorted_cluster['Acousticness'],\n",
    "            c=x, s=50, cmap='viridis')\n",
    "plt.show()"
   ]
  },
  {
   "cell_type": "code",
   "execution_count": null,
   "metadata": {},
   "outputs": [],
   "source": [
    "plt.scatter(songs_info_df_sorted_cluster['Cluster'], songs_info_df_sorted_cluster['Instrumentalness'],\n",
    "            c=x, s=50, cmap='viridis')\n",
    "plt.show()"
   ]
  },
  {
   "cell_type": "code",
   "execution_count": null,
   "metadata": {},
   "outputs": [],
   "source": [
    "plt.scatter(songs_info_df_sorted_cluster['Cluster'], songs_info_df_sorted_cluster['Liveness'],\n",
    "            c=x, s=50, cmap='viridis')\n",
    "plt.show()"
   ]
  },
  {
   "cell_type": "code",
   "execution_count": null,
   "metadata": {},
   "outputs": [],
   "source": [
    "hyp.plot(songs_info_clusters, '.', group=group, model='TSNE', ndims=2, legend=[1,2,3,4], \n",
    "         title = \"2D Representation of the Main Cluster using t-SNE\")"
   ]
  },
  {
   "cell_type": "code",
   "execution_count": null,
   "metadata": {},
   "outputs": [],
   "source": [
    "hyp.plot(songs_info_clusters, '.', group=group, model='PCA', ndims=2, legend=[1,2,3,4], \n",
    "         title = \"2D Representation of the Main Cluster using PCA\")"
   ]
  },
  {
   "cell_type": "code",
   "execution_count": null,
   "metadata": {},
   "outputs": [],
   "source": [
    "hyp.plot(songs_info_clusters, '.', group=group, model='TSNE', ndims=3, legend=[1,2,3,4], \n",
    "         title = \"3D Representation of the Main Cluster using t-SNE\")"
   ]
  },
  {
   "cell_type": "code",
   "execution_count": null,
   "metadata": {
    "collapsed": true
   },
   "outputs": [],
   "source": []
  }
 ],
 "metadata": {
  "kernelspec": {
   "display_name": "Python 3",
   "language": "python",
   "name": "python3"
  },
  "language_info": {
   "codemirror_mode": {
    "name": "ipython",
    "version": 3
   },
   "file_extension": ".py",
   "mimetype": "text/x-python",
   "name": "python",
   "nbconvert_exporter": "python",
   "pygments_lexer": "ipython3",
   "version": "3.6.3"
  }
 },
 "nbformat": 4,
 "nbformat_minor": 2
}
